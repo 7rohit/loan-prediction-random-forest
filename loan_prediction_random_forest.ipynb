{
  "nbformat": 4,
  "nbformat_minor": 0,
  "metadata": {
    "colab": {
      "name": "loan-prediction-random-forest.ipynb",
      "provenance": [],
      "authorship_tag": "ABX9TyPkq97Q9fnDnnQ383o8iPrd",
      "include_colab_link": true
    },
    "kernelspec": {
      "name": "python3",
      "display_name": "Python 3"
    },
    "language_info": {
      "name": "python"
    }
  },
  "cells": [
    {
      "cell_type": "markdown",
      "metadata": {
        "id": "view-in-github",
        "colab_type": "text"
      },
      "source": [
        "<a href=\"https://colab.research.google.com/github/7rohit/loan-prediction-random-forest/blob/main/loan_prediction_random_forest.ipynb\" target=\"_parent\"><img src=\"https://colab.research.google.com/assets/colab-badge.svg\" alt=\"Open In Colab\"/></a>"
      ]
    },
    {
      "cell_type": "code",
      "metadata": {
        "id": "RtpuVujJIa3U"
      },
      "source": [
        "import numpy as np\n",
        "import pandas as pd\n",
        "from matplotlib import pyplot as plt\n",
        "%matplotlib inline"
      ],
      "execution_count": null,
      "outputs": []
    },
    {
      "cell_type": "code",
      "metadata": {
        "id": "GePCzBRxKvLN"
      },
      "source": [
        "train_data = pd.read_csv('train_ctrUa4K.csv')\n",
        "test_data = pd.read_csv('test_lAUu6dG.csv')"
      ],
      "execution_count": null,
      "outputs": []
    },
    {
      "cell_type": "code",
      "metadata": {
        "id": "chJpQFESLEMD"
      },
      "source": [
        "def mix_data():\n",
        "    train_data = pd.read_csv('train_ctrUa4K.csv')\n",
        "    test_data = pd.read_csv('test_lAUu6dG.csv')\n",
        "    targets = train_data.Loan_Status\n",
        "    train_data.drop('Loan_Status', 1, inplace=True)\n",
        "    mixture = train_data.append(test_data)\n",
        "    mixture.reset_index(inplace=True)\n",
        "    mixture.drop(['index', 'Loan_ID'], inplace=True, axis=1)\n",
        "    return mixture"
      ],
      "execution_count": null,
      "outputs": []
    },
    {
      "cell_type": "code",
      "metadata": {
        "colab": {
          "base_uri": "https://localhost:8080/",
          "height": 295
        },
        "id": "289HMj_lMywx",
        "outputId": "4a6ac21a-6355-4e23-a2bd-bfbdb04e0fe5"
      },
      "source": [
        "mixture = mix_data()\n",
        "mixture.describe()"
      ],
      "execution_count": null,
      "outputs": [
        {
          "output_type": "execute_result",
          "data": {
            "text/html": [
              "<div>\n",
              "<style scoped>\n",
              "    .dataframe tbody tr th:only-of-type {\n",
              "        vertical-align: middle;\n",
              "    }\n",
              "\n",
              "    .dataframe tbody tr th {\n",
              "        vertical-align: top;\n",
              "    }\n",
              "\n",
              "    .dataframe thead th {\n",
              "        text-align: right;\n",
              "    }\n",
              "</style>\n",
              "<table border=\"1\" class=\"dataframe\">\n",
              "  <thead>\n",
              "    <tr style=\"text-align: right;\">\n",
              "      <th></th>\n",
              "      <th>ApplicantIncome</th>\n",
              "      <th>CoapplicantIncome</th>\n",
              "      <th>LoanAmount</th>\n",
              "      <th>Loan_Amount_Term</th>\n",
              "      <th>Credit_History</th>\n",
              "    </tr>\n",
              "  </thead>\n",
              "  <tbody>\n",
              "    <tr>\n",
              "      <th>count</th>\n",
              "      <td>981.000000</td>\n",
              "      <td>981.000000</td>\n",
              "      <td>954.000000</td>\n",
              "      <td>961.000000</td>\n",
              "      <td>902.000000</td>\n",
              "    </tr>\n",
              "    <tr>\n",
              "      <th>mean</th>\n",
              "      <td>5179.795107</td>\n",
              "      <td>1601.916330</td>\n",
              "      <td>142.511530</td>\n",
              "      <td>342.201873</td>\n",
              "      <td>0.835920</td>\n",
              "    </tr>\n",
              "    <tr>\n",
              "      <th>std</th>\n",
              "      <td>5695.104533</td>\n",
              "      <td>2718.772806</td>\n",
              "      <td>77.421743</td>\n",
              "      <td>65.100602</td>\n",
              "      <td>0.370553</td>\n",
              "    </tr>\n",
              "    <tr>\n",
              "      <th>min</th>\n",
              "      <td>0.000000</td>\n",
              "      <td>0.000000</td>\n",
              "      <td>9.000000</td>\n",
              "      <td>6.000000</td>\n",
              "      <td>0.000000</td>\n",
              "    </tr>\n",
              "    <tr>\n",
              "      <th>25%</th>\n",
              "      <td>2875.000000</td>\n",
              "      <td>0.000000</td>\n",
              "      <td>100.000000</td>\n",
              "      <td>360.000000</td>\n",
              "      <td>1.000000</td>\n",
              "    </tr>\n",
              "    <tr>\n",
              "      <th>50%</th>\n",
              "      <td>3800.000000</td>\n",
              "      <td>1110.000000</td>\n",
              "      <td>126.000000</td>\n",
              "      <td>360.000000</td>\n",
              "      <td>1.000000</td>\n",
              "    </tr>\n",
              "    <tr>\n",
              "      <th>75%</th>\n",
              "      <td>5516.000000</td>\n",
              "      <td>2365.000000</td>\n",
              "      <td>162.000000</td>\n",
              "      <td>360.000000</td>\n",
              "      <td>1.000000</td>\n",
              "    </tr>\n",
              "    <tr>\n",
              "      <th>max</th>\n",
              "      <td>81000.000000</td>\n",
              "      <td>41667.000000</td>\n",
              "      <td>700.000000</td>\n",
              "      <td>480.000000</td>\n",
              "      <td>1.000000</td>\n",
              "    </tr>\n",
              "  </tbody>\n",
              "</table>\n",
              "</div>"
            ],
            "text/plain": [
              "       ApplicantIncome  CoapplicantIncome  ...  Loan_Amount_Term  Credit_History\n",
              "count       981.000000         981.000000  ...        961.000000      902.000000\n",
              "mean       5179.795107        1601.916330  ...        342.201873        0.835920\n",
              "std        5695.104533        2718.772806  ...         65.100602        0.370553\n",
              "min           0.000000           0.000000  ...          6.000000        0.000000\n",
              "25%        2875.000000           0.000000  ...        360.000000        1.000000\n",
              "50%        3800.000000        1110.000000  ...        360.000000        1.000000\n",
              "75%        5516.000000        2365.000000  ...        360.000000        1.000000\n",
              "max       81000.000000       41667.000000  ...        480.000000        1.000000\n",
              "\n",
              "[8 rows x 5 columns]"
            ]
          },
          "metadata": {
            "tags": []
          },
          "execution_count": 4
        }
      ]
    },
    {
      "cell_type": "code",
      "metadata": {
        "id": "NLFqj60JM9cE"
      },
      "source": [
        "def add_gender():\n",
        "    global mixture\n",
        "    mixture['Gender'].fillna('Male', inplace=True)\n",
        "\n",
        "def add_martial_status():\n",
        "    global mixture\n",
        "    mixture['Married'].fillna('Yes', inplace=True)\n",
        "\n",
        "def add_employment():\n",
        "    global mixture\n",
        "    mixture['Self_Employed'].fillna('No', inplace=True)\n",
        "\n",
        "def add_loan_amount():\n",
        "    global mixture\n",
        "    mixture['LoanAmount'].fillna(mixture['LoanAmount'].median(), inplace=True)\n",
        "\n",
        "def add_credit_history():\n",
        "    global mixture\n",
        "    mixture['Credit_History'].fillna(2, inplace=True)"
      ],
      "execution_count": null,
      "outputs": []
    },
    {
      "cell_type": "code",
      "metadata": {
        "id": "Fp5sRA1yN4mG"
      },
      "source": [
        "add_gender()\n",
        "add_martial_status()\n",
        "add_employment()\n",
        "add_loan_amount()\n",
        "add_credit_history()"
      ],
      "execution_count": null,
      "outputs": []
    },
    {
      "cell_type": "code",
      "metadata": {
        "colab": {
          "base_uri": "https://localhost:8080/"
        },
        "id": "KAViX_NiO6Kh",
        "outputId": "62ff6f0a-44cc-4388-f2e4-31827a096c80"
      },
      "source": [
        "mixture.isnull().sum()"
      ],
      "execution_count": null,
      "outputs": [
        {
          "output_type": "execute_result",
          "data": {
            "text/plain": [
              "Gender                0\n",
              "Married               0\n",
              "Dependents           25\n",
              "Education             0\n",
              "Self_Employed         0\n",
              "ApplicantIncome       0\n",
              "CoapplicantIncome     0\n",
              "LoanAmount            0\n",
              "Loan_Amount_Term     20\n",
              "Credit_History        0\n",
              "Property_Area         0\n",
              "dtype: int64"
            ]
          },
          "metadata": {
            "tags": []
          },
          "execution_count": 7
        }
      ]
    },
    {
      "cell_type": "code",
      "metadata": {
        "id": "iH7gedF_O_tC"
      },
      "source": [
        "def num_gender():\n",
        "    global mixture\n",
        "    mixture['Gender'] = mixture['Gender'].map({'Male':1,'Female':0})\n",
        " \n",
        "def num_martial_status():\n",
        "    global mixture\n",
        "    mixture['Married'] = mixture['Married'].map({'Yes':1,'No':0})\n",
        " \n",
        "def num_dependents():\n",
        "    global mixture\n",
        "    mixture['Singleton'] = mixture['Dependents'].map(lambda d: 1 if d=='1' else 0)\n",
        "    mixture['Small_Family'] = mixture['Dependents'].map(lambda d: 1 if d=='2' else 0)\n",
        "    mixture['Large_Family'] = mixture['Dependents'].map(lambda d: 1 if d=='3+' else 0)\n",
        "    mixture.drop(['Dependents'], axis=1, inplace=True)\n",
        " \n",
        "def num_education():\n",
        "    global mixture\n",
        "    mixture['Education'] = mixture['Education'].map({'Graduate':1,'Not Graduate':0})\n",
        " \n",
        "def num_employment():\n",
        "    global mixture\n",
        "    mixture['Self_Employed'] = mixture['Self_Employed'].map({'Yes':1,'No':0})\n",
        " \n",
        "def num_income():\n",
        "    global mixture\n",
        "    mixture['Total_Income'] = mixture['ApplicantIncome'] + mixture['CoapplicantIncome']\n",
        "    mixture.drop(['ApplicantIncome','CoapplicantIncome'], axis=1, inplace=True)\n",
        " \n",
        "def num_loan_amount():\n",
        "    global mixture\n",
        "    mixture['Debt_Income_Ratio'] = mixture['Total_Income'] / mixture['LoanAmount']\n",
        "\n",
        "def num_loan_term():\n",
        "    global mixture\n",
        "    mixture['Very_Short_Term'] = mixture['Loan_Amount_Term'].map(lambda t: 1 if t<=60 else 0)\n",
        "    mixture['Short_Term'] = mixture['Loan_Amount_Term'].map(lambda t: 1 if t>60 and t<180 else 0)\n",
        "    mixture['Long_Term'] = mixture['Loan_Amount_Term'].map(lambda t: 1 if t>=180 and t<=300  else 0)\n",
        "    mixture['Very_Long_Term'] = mixture['Loan_Amount_Term'].map(lambda t: 1 if t>300 else 0)\n",
        "    mixture.drop('Loan_Amount_Term', axis=1, inplace=True)\n",
        "\n",
        "def num_credit_history():\n",
        "    global mixture\n",
        "    mixture['Credit_History_Bad'] = mixture['Credit_History'].map(lambda c: 1 if c==0 else 0)\n",
        "    mixture['Credit_History_Good'] = mixture['Credit_History'].map(lambda c: 1 if c==1 else 0)\n",
        "    mixture['Credit_History_Unknown'] = mixture['Credit_History'].map(lambda c: 1 if c==2 else 0)\n",
        "    mixture.drop('Credit_History', axis=1, inplace=True)\n",
        "\n",
        "def num_property():\n",
        "    global mixture\n",
        "    property_dummies = pd.get_dummies(mixture['Property_Area'], prefix='Property')\n",
        "    mixture = pd.concat([mixture, property_dummies], axis=1)\n",
        "    mixture.drop('Property_Area', axis=1, inplace=True)"
      ],
      "execution_count": null,
      "outputs": []
    },
    {
      "cell_type": "code",
      "metadata": {
        "id": "lqP0Utr1Pzfi"
      },
      "source": [
        "num_gender()\n",
        "num_martial_status()\n",
        "num_dependents()\n",
        "num_education()\n",
        "num_employment()\n",
        "num_income()\n",
        "num_loan_amount()\n",
        "num_loan_term()\n",
        "num_credit_history()\n",
        "num_property()"
      ],
      "execution_count": null,
      "outputs": []
    },
    {
      "cell_type": "code",
      "metadata": {
        "id": "g3tDjrdSRAeS"
      },
      "source": [
        "def scale(df):\n",
        "    df = df - df.min()\n",
        "    df = df/df.max()\n",
        "    return df"
      ],
      "execution_count": null,
      "outputs": []
    },
    {
      "cell_type": "code",
      "metadata": {
        "id": "sSxBBB2dSh0v"
      },
      "source": [
        "mixture['LoanAmount'] = scale(mixture['LoanAmount'])\n",
        "mixture['Total_Income'] = scale(mixture['Total_Income'])\n",
        "mixture['Debt_Income_Ratio'] = scale(mixture['Debt_Income_Ratio'])"
      ],
      "execution_count": null,
      "outputs": []
    },
    {
      "cell_type": "code",
      "metadata": {
        "id": "w46XiC9nS9Jn"
      },
      "source": [
        "from sklearn.model_selection import cross_val_score\n",
        "from sklearn.ensemble import RandomForestClassifier\n",
        "from sklearn.feature_selection import SelectFromModel"
      ],
      "execution_count": null,
      "outputs": []
    },
    {
      "cell_type": "code",
      "metadata": {
        "colab": {
          "base_uri": "https://localhost:8080/"
        },
        "id": "Wk9VZ8aaU28a",
        "outputId": "78adf544-9f9c-4d72-8549-c99615a8813d"
      },
      "source": [
        "train_data.shape"
      ],
      "execution_count": null,
      "outputs": [
        {
          "output_type": "execute_result",
          "data": {
            "text/plain": [
              "(614, 13)"
            ]
          },
          "metadata": {
            "tags": []
          },
          "execution_count": 13
        }
      ]
    },
    {
      "cell_type": "code",
      "metadata": {
        "id": "2ip2YlOJT_Lj"
      },
      "source": [
        "def score(clf, X, y, scoring='accuracy'):\n",
        "    x_val = cross_val_score(clf, X, y, cv = 5, scoring=scoring)\n",
        "    return np.mean(x_val)\n",
        "\n",
        "def recover_train_test_target():\n",
        "    global mixture, train_data\n",
        "    targets = train_data['Loan_Status'].map({'Y':1,'N':0})\n",
        "    train = mixture.head(614)\n",
        "    test = mixture.iloc[614:]\n",
        "    return train, test, targets"
      ],
      "execution_count": null,
      "outputs": []
    },
    {
      "cell_type": "code",
      "metadata": {
        "id": "N_7Y6WOJU7XA"
      },
      "source": [
        "train, test, targets = recover_train_test_target()"
      ],
      "execution_count": null,
      "outputs": []
    },
    {
      "cell_type": "code",
      "metadata": {
        "id": "WcxrzpiKVEJu"
      },
      "source": [
        "clf = RandomForestClassifier()\n",
        "clf = clf.fit(train, targets)"
      ],
      "execution_count": null,
      "outputs": []
    },
    {
      "cell_type": "code",
      "metadata": {
        "id": "nu-ZkDOmV7Qm"
      },
      "source": [
        "features = pd.DataFrame()\n",
        "features['Feature'] = train.columns\n",
        "features['Importance'] = clf.feature_importances_\n",
        "features.sort_values(by=['Importance'], ascending=False, inplace=True)\n",
        "features.set_index('Feature', inplace=True)"
      ],
      "execution_count": null,
      "outputs": []
    },
    {
      "cell_type": "code",
      "metadata": {
        "colab": {
          "base_uri": "https://localhost:8080/"
        },
        "id": "r6vKvyKKWec7",
        "outputId": "faf90749-e910-4d4f-f9c0-900de47247b0"
      },
      "source": [
        "model = SelectFromModel(clf, prefit=True)\n",
        "train_reduced = model.transform(train)\n",
        "train_reduced.shape"
      ],
      "execution_count": null,
      "outputs": [
        {
          "output_type": "execute_result",
          "data": {
            "text/plain": [
              "(614, 5)"
            ]
          },
          "metadata": {
            "tags": []
          },
          "execution_count": 18
        }
      ]
    },
    {
      "cell_type": "code",
      "metadata": {
        "colab": {
          "base_uri": "https://localhost:8080/"
        },
        "id": "rHzAUpT5Wpb_",
        "outputId": "0bb623d1-49b6-4e67-aafd-781fc8b43d70"
      },
      "source": [
        "parameters = {'bootstrap': False,'min_samples_leaf': 49, 'n_estimators': 150, 'min_samples_split': 15,'max_depth': 5}\n",
        "\n",
        "model = RandomForestClassifier(**parameters)\n",
        "model.fit(train, targets)"
      ],
      "execution_count": null,
      "outputs": [
        {
          "output_type": "execute_result",
          "data": {
            "text/plain": [
              "RandomForestClassifier(bootstrap=False, ccp_alpha=0.0, class_weight=None,\n",
              "                       criterion='gini', max_depth=5, max_features='auto',\n",
              "                       max_leaf_nodes=None, max_samples=None,\n",
              "                       min_impurity_decrease=0.0, min_impurity_split=None,\n",
              "                       min_samples_leaf=49, min_samples_split=15,\n",
              "                       min_weight_fraction_leaf=0.0, n_estimators=150,\n",
              "                       n_jobs=None, oob_score=False, random_state=None,\n",
              "                       verbose=0, warm_start=False)"
            ]
          },
          "metadata": {
            "tags": []
          },
          "execution_count": 19
        }
      ]
    },
    {
      "cell_type": "code",
      "metadata": {
        "colab": {
          "base_uri": "https://localhost:8080/"
        },
        "id": "s70xLHRRW63P",
        "outputId": "4d209d93-524a-4ef8-adec-a7e486fda272"
      },
      "source": [
        "score(model, train, targets, scoring='accuracy')"
      ],
      "execution_count": null,
      "outputs": [
        {
          "output_type": "execute_result",
          "data": {
            "text/plain": [
              "0.809462881514061"
            ]
          },
          "metadata": {
            "tags": []
          },
          "execution_count": 20
        }
      ]
    },
    {
      "cell_type": "code",
      "metadata": {
        "id": "0xUgy8o-XFuP"
      },
      "source": [
        "output = model.predict(test).astype(int)\n",
        "df_output = pd.DataFrame()\n",
        "aux = pd.read_csv('test_lAUu6dG.csv')\n",
        "df_output['Loan_ID'] = aux['Loan_ID']\n",
        "df_output['Loan_Status'] = np.vectorize(lambda s: 'Y' if s==1 else 'N')(output)\n",
        "df_output[['Loan_ID','Loan_Status']].to_csv('solution.csv',index=False)"
      ],
      "execution_count": null,
      "outputs": []
    }
  ]
}